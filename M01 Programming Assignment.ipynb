{
 "cells": [
  {
   "cell_type": "code",
   "execution_count": 3,
   "id": "7eeaf82d",
   "metadata": {},
   "outputs": [
    {
     "data": {
      "text/plain": [
       "3600"
      ]
     },
     "execution_count": 3,
     "metadata": {},
     "output_type": "execute_result"
    }
   ],
   "source": [
    "60*60\n",
    "\n"
   ]
  },
  {
   "cell_type": "code",
   "execution_count": 4,
   "id": "67844cfc",
   "metadata": {},
   "outputs": [],
   "source": [
    "seconds_per_hour=3600"
   ]
  },
  {
   "cell_type": "code",
   "execution_count": 7,
   "id": "780c7c1e",
   "metadata": {},
   "outputs": [
    {
     "data": {
      "text/plain": [
       "86400"
      ]
     },
     "execution_count": 7,
     "metadata": {},
     "output_type": "execute_result"
    }
   ],
   "source": [
    "seconds_per_day = seconds_per_hour * 24\n",
    "seconds_per_day"
   ]
  },
  {
   "cell_type": "code",
   "execution_count": 8,
   "id": "19bc08fe",
   "metadata": {},
   "outputs": [
    {
     "data": {
      "text/plain": [
       "24.0"
      ]
     },
     "execution_count": 8,
     "metadata": {},
     "output_type": "execute_result"
    }
   ],
   "source": [
    "seconds_per_day / seconds_per_hour"
   ]
  },
  {
   "cell_type": "code",
   "execution_count": 9,
   "id": "833f399f",
   "metadata": {},
   "outputs": [
    {
     "data": {
      "text/plain": [
       "24"
      ]
     },
     "execution_count": 9,
     "metadata": {},
     "output_type": "execute_result"
    }
   ],
   "source": [
    "seconds_per_day // seconds_per_hour"
   ]
  },
  {
   "cell_type": "code",
   "execution_count": 10,
   "id": "a8b6f191",
   "metadata": {},
   "outputs": [],
   "source": [
    "years_list = [2000, 2001, 2002, 2003, 2004, 2005]"
   ]
  },
  {
   "cell_type": "code",
   "execution_count": 11,
   "id": "b6095f07",
   "metadata": {},
   "outputs": [
    {
     "data": {
      "text/plain": [
       "2002"
      ]
     },
     "execution_count": 11,
     "metadata": {},
     "output_type": "execute_result"
    }
   ],
   "source": [
    "years_list[2]"
   ]
  },
  {
   "cell_type": "code",
   "execution_count": 12,
   "id": "7add77fa",
   "metadata": {},
   "outputs": [
    {
     "data": {
      "text/plain": [
       "2005"
      ]
     },
     "execution_count": 12,
     "metadata": {},
     "output_type": "execute_result"
    }
   ],
   "source": [
    "years_list[-1]"
   ]
  },
  {
   "cell_type": "code",
   "execution_count": null,
   "id": "8739fe8c",
   "metadata": {},
   "outputs": [],
   "source": []
  }
 ],
 "metadata": {
  "kernelspec": {
   "display_name": "Python 3 (ipykernel)",
   "language": "python",
   "name": "python3"
  },
  "language_info": {
   "codemirror_mode": {
    "name": "ipython",
    "version": 3
   },
   "file_extension": ".py",
   "mimetype": "text/x-python",
   "name": "python",
   "nbconvert_exporter": "python",
   "pygments_lexer": "ipython3",
   "version": "3.11.4"
  }
 },
 "nbformat": 4,
 "nbformat_minor": 5
}
